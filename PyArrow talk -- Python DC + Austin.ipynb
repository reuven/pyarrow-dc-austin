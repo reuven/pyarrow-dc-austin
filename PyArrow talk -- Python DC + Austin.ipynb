{
 "cells": [
  {
   "cell_type": "markdown",
   "id": "85037639-fdd8-4221-a2e2-bfe8b30382d3",
   "metadata": {},
   "source": [
    "# Agenda\n",
    "\n",
    "1. Pandas, NumPy, and PyArrow\n",
    "2. Arrow -- what it is\n",
    "3. PyArrow for file loading/saving\n",
    "4. PyArrow as a back-end data type\n",
    "5. Transitioning to PyArrow"
   ]
  },
  {
   "cell_type": "code",
   "execution_count": null,
   "id": "49a53ab7-1827-42f6-92f3-6a12ceb270fc",
   "metadata": {},
   "outputs": [],
   "source": []
  }
 ],
 "metadata": {
  "kernelspec": {
   "display_name": "Python 3 (ipykernel)",
   "language": "python",
   "name": "python3"
  },
  "language_info": {
   "codemirror_mode": {
    "name": "ipython",
    "version": 3
   },
   "file_extension": ".py",
   "mimetype": "text/x-python",
   "name": "python",
   "nbconvert_exporter": "python",
   "pygments_lexer": "ipython3",
   "version": "3.13.1"
  },
  "widgets": {
   "application/vnd.jupyter.widget-state+json": {
    "state": {},
    "version_major": 2,
    "version_minor": 0
   }
  }
 },
 "nbformat": 4,
 "nbformat_minor": 5
}
