{
 "cells": [
  {
   "cell_type": "markdown",
   "id": "85037639-fdd8-4221-a2e2-bfe8b30382d3",
   "metadata": {},
   "source": [
    "# Agenda\n",
    "\n",
    "1. Pandas, NumPy, and PyArrow\n",
    "2. Arrow -- what it is\n",
    "3. PyArrow for file loading/saving\n",
    "4. PyArrow as a back-end data type\n",
    "5. Transitioning to PyArrow"
   ]
  },
  {
   "cell_type": "markdown",
   "id": "52d86a7b-5279-4186-9221-24b455510f7d",
   "metadata": {},
   "source": [
    "# Pandas, NumPy, and PyArrow\n",
    "\n",
    "NumPy has been around for about 20 years. It gives us the speed and efficiency of C data types, but a Python API. That means we can use Python for numeric computing.\n",
    "\n",
    "NumPy defines the \"NumPy array,\" which contains a number of values all of the same type. These are all stored in C, which means that (in contrast with normal Python programming), we have to specify not only the type of values, but their lengths, as well."
   ]
  },
  {
   "cell_type": "code",
   "execution_count": null,
   "id": "158ac9fa-7620-4c9a-8400-110d3d827fa6",
   "metadata": {},
   "outputs": [],
   "source": []
  }
 ],
 "metadata": {
  "kernelspec": {
   "display_name": "Python 3 (ipykernel)",
   "language": "python",
   "name": "python3"
  },
  "language_info": {
   "codemirror_mode": {
    "name": "ipython",
    "version": 3
   },
   "file_extension": ".py",
   "mimetype": "text/x-python",
   "name": "python",
   "nbconvert_exporter": "python",
   "pygments_lexer": "ipython3",
   "version": "3.13.1"
  },
  "widgets": {
   "application/vnd.jupyter.widget-state+json": {
    "state": {},
    "version_major": 2,
    "version_minor": 0
   }
  }
 },
 "nbformat": 4,
 "nbformat_minor": 5
}
